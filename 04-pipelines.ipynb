{
 "cells": [
  {
   "cell_type": "markdown",
   "id": "7841fb00",
   "metadata": {},
   "source": [
    "## Creating Pipelines\n",
    "\n",
    "In notebooks [2](02-feature-engineering.ipynb) and  [3](03-model-logistic-regression.ipynb) we developed and trained a feature engineering technique and a logistic regression model. In this notebook we will combine them into a pipeline. \n",
    "\n",
    "Machine learning pipelines allow you to precisely specify a set of transformations which start with raw data and result in a model. They make it possible to re-train the same model repeatedly, using different parameter values, and to reapply these same transformations to raw data in production, resulting in predictions.  "
   ]
  },
  {
   "cell_type": "markdown",
   "id": "1cca3e28",
   "metadata": {},
   "source": [
    "We load in our data: "
   ]
  },
  {
   "cell_type": "code",
   "execution_count": 1,
   "id": "ed9616ed",
   "metadata": {},
   "outputs": [],
   "source": [
    "import numpy as np\n",
    "import pandas as pd\n",
    "df = pd.read_parquet(\"fraud-cleaned-sample.parquet\")"
   ]
  },
  {
   "cell_type": "code",
   "execution_count": 2,
   "id": "36a1c96e",
   "metadata": {},
   "outputs": [],
   "source": [
    "from sklearn import model_selection\n",
    "train, test = model_selection.train_test_split(df, random_state=43)"
   ]
  },
  {
   "cell_type": "markdown",
   "id": "db8cf370",
   "metadata": {},
   "source": [
    "Now we load the pipeline steps we created in earier notebooks. These are `feat_pipeline.pkl` and `lr.pkl`, corresponding to the feature engineering stages and the logisitc regression model, respectively. "
   ]
  },
  {
   "cell_type": "code",
   "execution_count": 3,
   "id": "15d81f7e",
   "metadata": {},
   "outputs": [],
   "source": [
    "import cloudpickle as cp\n",
    "feature_pipeline = cp.load(open('feat_pipeline.pkl', 'rb'))\n",
    "model = cp.load(open('lr.pkl', 'rb'))"
   ]
  },
  {
   "cell_type": "markdown",
   "id": "4baf0e1c",
   "metadata": {},
   "source": [
    "Now we can combine these stages together in a pipeline and fit it to training data:"
   ]
  },
  {
   "cell_type": "code",
   "execution_count": 4,
   "id": "a32af743",
   "metadata": {},
   "outputs": [],
   "source": [
    "from sklearn.pipeline import Pipeline\n",
    "pipeline = Pipeline([\n",
    "    ('features', feature_pipeline),\n",
    "    ('model', model)\n",
    "])"
   ]
  },
  {
   "cell_type": "code",
   "execution_count": 5,
   "id": "e3962396",
   "metadata": {},
   "outputs": [
    {
     "data": {
      "text/plain": [
       "Pipeline(steps=[('features',\n",
       "                 Pipeline(steps=[('feature_extraction',\n",
       "                                  ColumnTransformer(transformers=[('interarrival_scaler',\n",
       "                                                                   Pipeline(steps=[('median_imputer',\n",
       "                                                                                    SimpleImputer(strategy='median')),\n",
       "                                                                                   ('interarrival_scaler',\n",
       "                                                                                    RobustScaler())]),\n",
       "                                                                   ['interarrival']),\n",
       "                                                                  ('amount_scaler',\n",
       "                                                                   RobustScaler(),\n",
       "                                                                   ['amount']),\n",
       "                                                                  ('onehot',\n",
       "                                                                   OneHotEncoder(categories=[['online',\n",
       "                                                                                              'contactless',\n",
       "                                                                                              'chip_and_pin',\n",
       "                                                                                              'manual',\n",
       "                                                                                              'swipe']],\n",
       "                                                                                 handle_unknown='ignore'),\n",
       "                                                                   ['trans_type']),\n",
       "                                                                  ('m_hashing',\n",
       "                                                                   Pipeline(steps=[('dictify',\n",
       "                                                                                    FunctionTransformer(accept_sparse=True,\n",
       "                                                                                                        func=<function amap at 0x7f62ec71d0d0>)),\n",
       "                                                                                   ('hasher',\n",
       "                                                                                    FeatureHasher(n_features=256))]),\n",
       "                                                                   'merchant_id')]))])),\n",
       "                ('model', LogisticRegression(max_iter=500))])"
      ]
     },
     "execution_count": 5,
     "metadata": {},
     "output_type": "execute_result"
    }
   ],
   "source": [
    "pipeline"
   ]
  },
  {
   "cell_type": "markdown",
   "id": "aaffd1f5",
   "metadata": {},
   "source": [
    "Here you can see all the transformations and parameters used in the pipeline. \n",
    "\n",
    "We can refit the whole pipeline to training data:"
   ]
  },
  {
   "cell_type": "code",
   "execution_count": 6,
   "id": "fb151b60",
   "metadata": {},
   "outputs": [
    {
     "data": {
      "text/plain": [
       "Pipeline(steps=[('features',\n",
       "                 Pipeline(steps=[('feature_extraction',\n",
       "                                  ColumnTransformer(transformers=[('interarrival_scaler',\n",
       "                                                                   Pipeline(steps=[('median_imputer',\n",
       "                                                                                    SimpleImputer(strategy='median')),\n",
       "                                                                                   ('interarrival_scaler',\n",
       "                                                                                    RobustScaler())]),\n",
       "                                                                   ['interarrival']),\n",
       "                                                                  ('amount_scaler',\n",
       "                                                                   RobustScaler(),\n",
       "                                                                   ['amount']),\n",
       "                                                                  ('onehot',\n",
       "                                                                   OneHotEncoder(categories=[['online',\n",
       "                                                                                              'contactless',\n",
       "                                                                                              'chip_and_pin',\n",
       "                                                                                              'manual',\n",
       "                                                                                              'swipe']],\n",
       "                                                                                 handle_unknown='ignore'),\n",
       "                                                                   ['trans_type']),\n",
       "                                                                  ('m_hashing',\n",
       "                                                                   Pipeline(steps=[('dictify',\n",
       "                                                                                    FunctionTransformer(accept_sparse=True,\n",
       "                                                                                                        func=<function amap at 0x7f62ec71d0d0>)),\n",
       "                                                                                   ('hasher',\n",
       "                                                                                    FeatureHasher(n_features=256))]),\n",
       "                                                                   'merchant_id')]))])),\n",
       "                ('model', LogisticRegression(max_iter=500))])"
      ]
     },
     "execution_count": 6,
     "metadata": {},
     "output_type": "execute_result"
    }
   ],
   "source": [
    "pipeline.fit(train, y = train[\"label\"])"
   ]
  },
  {
   "cell_type": "markdown",
   "id": "f7f7cdfc",
   "metadata": {},
   "source": [
    "We can use this pipeline to make predictions - let's predict for our test set:"
   ]
  },
  {
   "cell_type": "code",
   "execution_count": 7,
   "id": "be204541",
   "metadata": {},
   "outputs": [
    {
     "data": {
      "text/plain": [
       "array(['legitimate', 'legitimate', 'legitimate', ..., 'legitimate',\n",
       "       'legitimate', 'legitimate'], dtype=object)"
      ]
     },
     "execution_count": 7,
     "metadata": {},
     "output_type": "execute_result"
    }
   ],
   "source": [
    "pipeline.predict(test)"
   ]
  },
  {
   "cell_type": "markdown",
   "id": "891d6099",
   "metadata": {},
   "source": [
    "Let's now save this pipeline as one pickled object:"
   ]
  },
  {
   "cell_type": "code",
   "execution_count": 8,
   "id": "23e3826f",
   "metadata": {},
   "outputs": [],
   "source": [
    "cp.dump(pipeline, open(\"pipeline.pkl\", \"wb\"))\n"
   ]
  },
  {
   "cell_type": "markdown",
   "id": "a96bc8a6",
   "metadata": {},
   "source": [
    "With the pipeline saved, we can now start to think about developing a model service that we can interact with, rather than just crunching data through the jupyter notebook. Head over to the 'app' folder inside this file directory to access the next notebooks. "
   ]
  }
 ],
 "metadata": {
  "kernelspec": {
   "display_name": "Python 3 (ipykernel)",
   "language": "python",
   "name": "python3"
  },
  "language_info": {
   "codemirror_mode": {
    "name": "ipython",
    "version": 3
   },
   "file_extension": ".py",
   "mimetype": "text/x-python",
   "name": "python",
   "nbconvert_exporter": "python",
   "pygments_lexer": "ipython3",
   "version": "3.8.8"
  }
 },
 "nbformat": 4,
 "nbformat_minor": 5
}
